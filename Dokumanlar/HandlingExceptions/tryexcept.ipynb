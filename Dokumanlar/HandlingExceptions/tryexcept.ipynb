{
 "cells": [
  {
   "cell_type": "markdown",
   "metadata": {},
   "source": [
    "# Handling Exceptions\n",
    "* try except\n",
    "* finally\n",
    "* Exception Hiearchy\n",
    "* raise"
   ]
  },
  {
   "cell_type": "code",
   "execution_count": 1,
   "metadata": {},
   "outputs": [
    {
     "data": {
      "text/plain": [
       "1.6666666666666667"
      ]
     },
     "execution_count": 1,
     "metadata": {},
     "output_type": "execute_result"
    }
   ],
   "source": [
    "a = int(input(\"1. Sayıyı Giriniz:\"))\n",
    "b = int(input(\"2. Sayıyı Giriniz:\"))\n",
    "a/b"
   ]
  },
  {
   "cell_type": "code",
   "execution_count": 3,
   "metadata": {},
   "outputs": [],
   "source": [
    "try:\n",
    "    a = int(input(\"1. Sayıyı Giriniz:\"))\n",
    "    b = int(input(\"2. Sayıyı Giriniz:\"))\n",
    "    print(a/b)\n",
    "except:\n",
    "    pass"
   ]
  },
  {
   "cell_type": "code",
   "execution_count": 4,
   "metadata": {},
   "outputs": [
    {
     "name": "stdout",
     "output_type": "stream",
     "text": [
      "invalid literal for int() with base 10: 'a'\n"
     ]
    }
   ],
   "source": [
    "try:\n",
    "    a = int(input(\"1. Sayıyı Giriniz:\"))\n",
    "    b = int(input(\"2. Sayıyı Giriniz:\"))\n",
    "    print(a/b)\n",
    "except Exception as hata:\n",
    "    print(hata)"
   ]
  },
  {
   "cell_type": "code",
   "execution_count": null,
   "metadata": {},
   "outputs": [
    {
     "name": "stdout",
     "output_type": "stream",
     "text": [
      "Sıfıra Bölme Hatası\n"
     ]
    }
   ],
   "source": [
    "try:\n",
    "    a = int(input(\"1. Sayıyı Giriniz:\"))\n",
    "    b = int(input(\"2. Sayıyı Giriniz:\"))\n",
    "    print(a/b)\n",
    "except ValueError:\n",
    "    print(\"Değer Hatası\")\n",
    "except ZeroDivisionError:\n",
    "    print(\"Sıfıra Bölme Hatası\")\n",
    "except Exception as hata:\n",
    "    print(hata)"
   ]
  },
  {
   "cell_type": "code",
   "execution_count": null,
   "metadata": {},
   "outputs": [
    {
     "name": "stdout",
     "output_type": "stream",
     "text": [
      "invalid literal for int() with base 10: 'a'\n"
     ]
    }
   ],
   "source": [
    "try:\n",
    "    adim = \"A1\"\n",
    "    a = int(input(\"1. Sayıyı Giriniz:\"))\n",
    "    adim = \"A2\"\n",
    "    b = int(input(\"2. Sayıyı Giriniz:\"))\n",
    "    print(a/b)\n",
    "except Exception as hata:\n",
    "    print(hata,adim)\n",
    "except ValueError:\n",
    "    print(\"Değer Hatası\")\n",
    "except ZeroDivisionError:\n",
    "    print(\"Sıfıra Bölme Hatası\")\n"
   ]
  },
  {
   "cell_type": "code",
   "execution_count": null,
   "metadata": {},
   "outputs": [],
   "source": [
    "try:\n",
    "    adim = \"A1\"\n",
    "    a = int(input(\"1. Sayıyı Giriniz:\"))\n",
    "    adim = \"A2\"\n",
    "    b = int(input(\"2. Sayıyı Giriniz:\"))\n",
    "    print(a/b)\n",
    "except ValueError:\n",
    "    print(\"Değer Hatası\")\n",
    "except ZeroDivisionError:\n",
    "    print(\"Sıfıra Bölme Hatası\")\n",
    "except Exception as hata:\n",
    "    print(hata,adim)\n",
    "finally:\n",
    "    print(\"Her Zaman Çalışır\")\n"
   ]
  },
  {
   "cell_type": "code",
   "execution_count": 3,
   "metadata": {},
   "outputs": [
    {
     "name": "stdout",
     "output_type": "stream",
     "text": [
      "2.5\n",
      "Her Zaman Çalışır\n"
     ]
    }
   ],
   "source": [
    "def bolme(a,b):\n",
    "    if  a and  b:\n",
    "        return a/b\n",
    "    else:\n",
    "        raise ZeroDivisionError(\"Sıfıra Bölme Hatası\")\n",
    "\n",
    "try:\n",
    "    adim = \"A1\"\n",
    "    a = int(input(\"1. Sayıyı Giriniz:\"))\n",
    "    adim = \"A2\"\n",
    "    b = int(input(\"2. Sayıyı Giriniz:\"))\n",
    "    print(bolme(a,b))\n",
    "except ValueError:\n",
    "    print(\"Değer Hatası\")\n",
    "except ZeroDivisionError:\n",
    "    print(\"Sıfıra Bölme Hatası\")\n",
    "except Exception as hata:\n",
    "    print(hata,adim)\n",
    "finally:\n",
    "    print(\"Her Zaman Çalışır\")"
   ]
  },
  {
   "cell_type": "markdown",
   "metadata": {},
   "source": []
  }
 ],
 "metadata": {
  "kernelspec": {
   "display_name": "Python 3",
   "language": "python",
   "name": "python3"
  },
  "language_info": {
   "codemirror_mode": {
    "name": "ipython",
    "version": 3
   },
   "file_extension": ".py",
   "mimetype": "text/x-python",
   "name": "python",
   "nbconvert_exporter": "python",
   "pygments_lexer": "ipython3",
   "version": "3.12.9"
  }
 },
 "nbformat": 4,
 "nbformat_minor": 2
}

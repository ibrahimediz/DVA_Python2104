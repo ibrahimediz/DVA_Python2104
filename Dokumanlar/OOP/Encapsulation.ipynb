{
 "cells": [
  {
   "cell_type": "markdown",
   "metadata": {},
   "source": [
    "# Encapsulation"
   ]
  },
  {
   "cell_type": "markdown",
   "metadata": {},
   "source": [
    "```\n",
    "__gizli => GİZLİ\n",
    "__gizli_ => GİZLİ\n",
    "__gizli__ => GİZLİ DEĞİL\n",
    "_yarigizli => YARI GİZLİ\n",
    "```"
   ]
  },
  {
   "cell_type": "code",
   "execution_count": 3,
   "metadata": {},
   "outputs": [
    {
     "ename": "AttributeError",
     "evalue": "'Sinif' object has no attribute '__gizli'",
     "output_type": "error",
     "traceback": [
      "\u001b[0;31m---------------------------------------------------------------------------\u001b[0m",
      "\u001b[0;31mAttributeError\u001b[0m                            Traceback (most recent call last)",
      "Cell \u001b[0;32mIn[3], line 6\u001b[0m\n\u001b[1;32m      3\u001b[0m         \u001b[38;5;28mself\u001b[39m\u001b[38;5;241m.\u001b[39m__gizli \u001b[38;5;241m=\u001b[39m \u001b[38;5;124m\"\u001b[39m\u001b[38;5;124mA\u001b[39m\u001b[38;5;124m\"\u001b[39m\n\u001b[1;32m      5\u001b[0m obj \u001b[38;5;241m=\u001b[39m Sinif()\n\u001b[0;32m----> 6\u001b[0m \u001b[43mobj\u001b[49m\u001b[38;5;241;43m.\u001b[39;49m\u001b[43m__gizli\u001b[49m\n",
      "\u001b[0;31mAttributeError\u001b[0m: 'Sinif' object has no attribute '__gizli'"
     ]
    }
   ],
   "source": [
    "class Sinif:\n",
    "    def __init__(self):\n",
    "        self.__gizli = \"A\"\n",
    "\n",
    "obj = Sinif()\n",
    "obj.__gizli"
   ]
  },
  {
   "cell_type": "code",
   "execution_count": null,
   "metadata": {},
   "outputs": [
    {
     "data": {
      "text/plain": [
       "'A'"
      ]
     },
     "execution_count": 1,
     "metadata": {},
     "output_type": "execute_result"
    }
   ],
   "source": [
    "class Sinif:\n",
    "    def __init__(self):\n",
    "        self.__gizli = \"A\"\n",
    "\n",
    "    def gizli(self): # getter\n",
    "        return self.__gizli\n",
    "\n",
    "\n",
    "obj = Sinif()\n",
    "obj.gizli()"
   ]
  },
  {
   "cell_type": "code",
   "execution_count": 3,
   "metadata": {},
   "outputs": [
    {
     "name": "stdout",
     "output_type": "stream",
     "text": [
      "A\n"
     ]
    }
   ],
   "source": [
    "class Sinif:\n",
    "    def __init__(self):\n",
    "        self.__gizli = \"A\"\n",
    "\n",
    "    @property\n",
    "    def gizli(self): # getter\n",
    "        return self.__gizli\n",
    "\n",
    "\n",
    "obj = Sinif()\n",
    "print(obj.gizli)"
   ]
  },
  {
   "cell_type": "code",
   "execution_count": 7,
   "metadata": {},
   "outputs": [
    {
     "name": "stdout",
     "output_type": "stream",
     "text": [
      "A\n",
      "BBBB\n"
     ]
    },
    {
     "ename": "ValueError",
     "evalue": "Değer Hatası",
     "output_type": "error",
     "traceback": [
      "\u001b[0;31m---------------------------------------------------------------------------\u001b[0m",
      "\u001b[0;31mValueError\u001b[0m                                Traceback (most recent call last)",
      "Cell \u001b[0;32mIn[7], line 20\u001b[0m\n\u001b[1;32m     18\u001b[0m obj\u001b[38;5;241m.\u001b[39mgizli \u001b[38;5;241m=\u001b[39m \u001b[38;5;124m\"\u001b[39m\u001b[38;5;124mBBBB\u001b[39m\u001b[38;5;124m\"\u001b[39m\n\u001b[1;32m     19\u001b[0m \u001b[38;5;28mprint\u001b[39m(obj\u001b[38;5;241m.\u001b[39mgizli)\n\u001b[0;32m---> 20\u001b[0m \u001b[43mobj\u001b[49m\u001b[38;5;241;43m.\u001b[39;49m\u001b[43mgizli\u001b[49m \u001b[38;5;241m=\u001b[39m \u001b[38;5;241m4\u001b[39m\n",
      "Cell \u001b[0;32mIn[7], line 14\u001b[0m, in \u001b[0;36mSinif.gizli\u001b[0;34m(self, param)\u001b[0m\n\u001b[1;32m     12\u001b[0m     \u001b[38;5;28mself\u001b[39m\u001b[38;5;241m.\u001b[39m__gizli \u001b[38;5;241m=\u001b[39m param\n\u001b[1;32m     13\u001b[0m \u001b[38;5;28;01melse\u001b[39;00m:\n\u001b[0;32m---> 14\u001b[0m     \u001b[38;5;28;01mraise\u001b[39;00m \u001b[38;5;167;01mValueError\u001b[39;00m(\u001b[38;5;124m\"\u001b[39m\u001b[38;5;124mDeğer Hatası\u001b[39m\u001b[38;5;124m\"\u001b[39m)\n",
      "\u001b[0;31mValueError\u001b[0m: Değer Hatası"
     ]
    }
   ],
   "source": [
    "class Sinif:\n",
    "    def __init__(self):\n",
    "        self.__gizli = \"A\"\n",
    "\n",
    "    @property\n",
    "    def gizli(self): # getter\n",
    "        return self.__gizli\n",
    "        \n",
    "    @gizli.setter\n",
    "    def gizli(self,param):\n",
    "        if type(param) == str:\n",
    "            self.__gizli = param\n",
    "        else:\n",
    "            raise ValueError(\"Değer Hatası\")\n",
    "\n",
    "obj = Sinif()\n",
    "print(obj.gizli)\n",
    "obj.gizli = \"BBBB\"\n",
    "print(obj.gizli)\n",
    "obj.gizli = 4"
   ]
  },
  {
   "cell_type": "code",
   "execution_count": 8,
   "metadata": {},
   "outputs": [
    {
     "name": "stdout",
     "output_type": "stream",
     "text": [
      "A\n",
      "BBBB\n",
      "bbbb\n"
     ]
    }
   ],
   "source": [
    "class Sinif:\n",
    "    def __init__(self):\n",
    "        self.__gizli = \"A\"\n",
    "\n",
    "    @property\n",
    "    def gizli(self): # getter\n",
    "        return self.__gizli\n",
    "        \n",
    "    @gizli.setter\n",
    "    def gizli(self,param):\n",
    "        if type(param) == str:\n",
    "            self.__gizli = param\n",
    "        else:\n",
    "            raise ValueError(\"Değer Hatası\")\n",
    "\n",
    "    @gizli.deleter\n",
    "    def gizli(self):\n",
    "        self.__gizli = self.__gizli.lower()\n",
    "\n",
    "obj = Sinif()\n",
    "print(obj.gizli)\n",
    "obj.gizli = \"BBBB\"\n",
    "print(obj.gizli)\n",
    "# obj.gizli = 4\n",
    "del obj.gizli\n",
    "print(obj.gizli)"
   ]
  },
  {
   "cell_type": "code",
   "execution_count": 11,
   "metadata": {},
   "outputs": [
    {
     "name": "stdout",
     "output_type": "stream",
     "text": [
      "HASTALA VİSTA BABY\n"
     ]
    }
   ],
   "source": [
    "class Sinif:\n",
    "    def __init__(self):\n",
    "        self.__gizli = \"A\"\n",
    "\n",
    "    @property\n",
    "    def gizli(self): # getter\n",
    "        return self.__gizli\n",
    "        \n",
    "    @gizli.setter\n",
    "    def gizli(self,param):\n",
    "        if type(param) == str:\n",
    "            self.__gizli = param\n",
    "        else:\n",
    "            raise ValueError(\"Değer Hatası\")\n",
    "\n",
    "    @gizli.deleter\n",
    "    def gizli(self):\n",
    "        self.__gizli = self.__gizli.lower()\n",
    "\n",
    "\n",
    "    def __del__(self): #destructor\n",
    "        print(\"HASTALA VİSTA BABY\")\n",
    "\n",
    "obj = Sinif()\n",
    "del obj"
   ]
  },
  {
   "cell_type": "code",
   "execution_count": null,
   "metadata": {},
   "outputs": [],
   "source": [
    "locals()"
   ]
  },
  {
   "cell_type": "code",
   "execution_count": null,
   "metadata": {},
   "outputs": [
    {
     "name": "stdout",
     "output_type": "stream",
     "text": [
      "Dışardan a: 5\n",
      "Fonk a: 2\n",
      "Dışardan a: 2\n"
     ]
    }
   ],
   "source": [
    "a = 5\n",
    "def fonk(a):\n",
    "    a = 2\n",
    "    print(\"Fonk a:\",a)\n",
    "print(\"Dışardan a:\",a)\n",
    "fonk()\n",
    "print(\"Dışardan a:\",a)"
   ]
  },
  {
   "cell_type": "code",
   "execution_count": null,
   "metadata": {},
   "outputs": [],
   "source": []
  }
 ],
 "metadata": {
  "kernelspec": {
   "display_name": "Python 3",
   "language": "python",
   "name": "python3"
  },
  "language_info": {
   "codemirror_mode": {
    "name": "ipython",
    "version": 3
   },
   "file_extension": ".py",
   "mimetype": "text/x-python",
   "name": "python",
   "nbconvert_exporter": "python",
   "pygments_lexer": "ipython3",
   "version": "3.12.9"
  }
 },
 "nbformat": 4,
 "nbformat_minor": 2
}

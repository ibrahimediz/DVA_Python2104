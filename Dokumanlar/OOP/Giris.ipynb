{
 "cells": [
  {
   "cell_type": "markdown",
   "metadata": {},
   "source": [
    "# Giriş\n",
    "* Tanımlama ve çağırma\n",
    "* Class, Instance\n",
    "* attributes, method\n",
    "* `__init__`\n"
   ]
  },
  {
   "cell_type": "markdown",
   "metadata": {},
   "source": [
    "## Tanımlama ve Çağırma"
   ]
  },
  {
   "cell_type": "code",
   "execution_count": 14,
   "metadata": {},
   "outputs": [
    {
     "data": {
      "text/plain": [
       "<__main__.Sinif at 0x7f5479b8be30>"
      ]
     },
     "execution_count": 14,
     "metadata": {},
     "output_type": "execute_result"
    }
   ],
   "source": [
    "class Sinif: # class\n",
    "    pass\n",
    "Sinif() # Çağırma Initiation => Instance"
   ]
  },
  {
   "cell_type": "code",
   "execution_count": null,
   "metadata": {},
   "outputs": [
    {
     "name": "stdout",
     "output_type": "stream",
     "text": [
      "Sınıf Özelliği\n",
      "Sınıf Özelliği\n"
     ]
    },
    {
     "data": {
      "text/plain": [
       "3"
      ]
     },
     "execution_count": 23,
     "metadata": {},
     "output_type": "execute_result"
    }
   ],
   "source": [
    "class Sinif:\n",
    "    sinifOzelligi = \"Sınıf Özelliği\"\n",
    "    def __init__(self,param): #constructor\n",
    "        self.ornekOzellik = \"a\" # instance attribute\n",
    "        self.ornekOzellik2 = param\n",
    "\n",
    "    def soyle(self): # instance method\n",
    "        print(self.ornekOzellik2)\n",
    "\n",
    "    @classmethod\n",
    "    def sinifMethod(cls):\n",
    "        print(cls.sinifOzelligi)\n",
    "        \n",
    "obj1 = Sinif(\"OBJ1\")\n",
    "obj2 = Sinif(\"OBJ2\")\n",
    "# obj1.soyle()\n",
    "# obj2.soyle()\n",
    "Sinif.sinifMethod()  #Sınıf Özelliği\n",
    "obj1.sinifOzelligi # Sınıf Özelliği\n",
    "obj1.sinifOzelligi = 3\n",
    "Sinif.sinifMethod() # None\n",
    "obj1.sinifOzelligi # 3"
   ]
  },
  {
   "cell_type": "code",
   "execution_count": 32,
   "metadata": {},
   "outputs": [
    {
     "name": "stdout",
     "output_type": "stream",
     "text": [
      "1 2\n",
      "(3, 4, 5, 6)\n",
      "{'param1': 2}\n",
      "##############################\n",
      "1 2\n",
      "()\n",
      "{}\n"
     ]
    }
   ],
   "source": [
    "def fonk(a,b,*args,**kwargs):\n",
    "    print(a,b)\n",
    "    print(args)\n",
    "    print(kwargs)\n",
    "fonk(1,2,3,4,5,6,param1=2)\n",
    "print(\"#\"*30)\n",
    "fonk(1,2)"
   ]
  },
  {
   "cell_type": "code",
   "execution_count": 30,
   "metadata": {},
   "outputs": [
    {
     "name": "stdout",
     "output_type": "stream",
     "text": [
      "1 2 3 4 5 3\n"
     ]
    }
   ],
   "source": [
    "def fonk(a,b,/,c,d,*,e,f):\n",
    "    print(a,b,c,d,e,f)\n",
    "fonk(1,2,3,4,f=3,e=5)"
   ]
  },
  {
   "cell_type": "markdown",
   "metadata": {},
   "source": [
    "## attributes and methos"
   ]
  },
  {
   "cell_type": "code",
   "execution_count": null,
   "metadata": {},
   "outputs": [],
   "source": [
    "class Sinif:\n",
    "    sinifOzelligi = \"Sınıf Özelliği\"\n",
    "    def __init__(self,param,*args,**kwargs): #constructor\n",
    "        self.ornekOzellik = \"a\" # instance attribute\n",
    "        self.ornekOzellik2 = param\n",
    "\n",
    "    def soyle(self): # instance method\n",
    "        print(self.ornekOzellik2)\n",
    "\n",
    "    @classmethod\n",
    "    def sinifMethod(cls):\n",
    "        print(cls.sinifOzelligi)\n",
    "        \n",
    "obj1 = Sinif(\"OBJ1\")\n",
    "obj2 = Sinif(\"OBJ2\")\n",
    "# obj1.soyle()\n",
    "# obj2.soyle()\n",
    "Sinif.sinifMethod()  #Sınıf Özelliği\n",
    "obj1.sinifOzelligi # Sınıf Özelliği\n",
    "obj1.sinifOzelligi = 3\n",
    "Sinif.sinifMethod() # None\n",
    "obj1.sinifOzelligi # 3"
   ]
  },
  {
   "cell_type": "markdown",
   "metadata": {},
   "source": [
    "---------------------------------------------------"
   ]
  },
  {
   "cell_type": "markdown",
   "metadata": {},
   "source": [
    "### Dipnot"
   ]
  },
  {
   "cell_type": "code",
   "execution_count": 42,
   "metadata": {},
   "outputs": [],
   "source": [
    "def fonk(a,b):\n",
    "    return a+b\n",
    "\n",
    "fonk = lambda x,y:x+y\n",
    "liste = [1,2,2,3,2,2,1,1,2,3,]\n",
    "list(map(lambda x:x**2,liste))\n",
    "print(*liste,sep=\";\",file=open(\"deneme.csv\",\"a+\"))\n",
    "print(*liste,sep=\";\",file=open(\"deneme.csv\",\"a+\"))\n",
    "print(*liste,sep=\";\",file=open(\"deneme.csv\",\"a+\"))\n",
    "print(*liste,sep=\";\",file=open(\"deneme.csv\",\"a+\"))"
   ]
  },
  {
   "cell_type": "code",
   "execution_count": 44,
   "metadata": {},
   "outputs": [
    {
     "data": {
      "text/plain": [
       "([0, 1, 4, 9, 16], {0: 0, 1: 1, 2: 4, 3: 9, 4: 16})"
      ]
     },
     "execution_count": 44,
     "metadata": {},
     "output_type": "execute_result"
    }
   ],
   "source": [
    "liste = [i**2 for i in range(5)]\n",
    "sozluk = {i:i**2 for i in range(5)}\n",
    "liste,sozluk"
   ]
  },
  {
   "cell_type": "code",
   "execution_count": null,
   "metadata": {},
   "outputs": [
    {
     "name": "stdout",
     "output_type": "stream",
     "text": [
      "4\n",
      "faktoriyel 29.592801570892334\n"
     ]
    }
   ],
   "source": [
    "## decorator\n",
    "import time\n",
    "def zaman(fonk):\n",
    "    def icfonk(*args,**kwargs):\n",
    "        baslangic = time.time()\n",
    "        time.sleep(1)\n",
    "        fonk(*args,**kwargs)\n",
    "        bitis = time.time()\n",
    "        print(fonk.__name__,(bitis-baslangic))\n",
    "    return icfonk\n",
    "\n",
    "@zaman\n",
    "def faktoriyel(sayi):\n",
    "    sonuc = 1\n",
    "    for i in range(sayi):\n",
    "        sonuc *= i\n",
    "    print(i)\n",
    "\n",
    "faktoriyel(5)"
   ]
  },
  {
   "cell_type": "markdown",
   "metadata": {},
   "source": [
    "----------------------------------"
   ]
  },
  {
   "cell_type": "markdown",
   "metadata": {},
   "source": [
    "1. Encapsulation\n",
    "2. Inheritance\n",
    "3. Polymorphism\n",
    "4. Abstraction"
   ]
  },
  {
   "cell_type": "code",
   "execution_count": null,
   "metadata": {},
   "outputs": [],
   "source": []
  }
 ],
 "metadata": {
  "kernelspec": {
   "display_name": "Python 3",
   "language": "python",
   "name": "python3"
  },
  "language_info": {
   "codemirror_mode": {
    "name": "ipython",
    "version": 3
   },
   "file_extension": ".py",
   "mimetype": "text/x-python",
   "name": "python",
   "nbconvert_exporter": "python",
   "pygments_lexer": "ipython3",
   "version": "3.12.9"
  }
 },
 "nbformat": 4,
 "nbformat_minor": 2
}

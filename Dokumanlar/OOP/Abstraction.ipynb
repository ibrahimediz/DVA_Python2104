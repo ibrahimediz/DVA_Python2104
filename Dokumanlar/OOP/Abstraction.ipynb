{
 "cells": [
  {
   "cell_type": "markdown",
   "metadata": {},
   "source": [
    "# Abstraction"
   ]
  },
  {
   "cell_type": "code",
   "execution_count": 4,
   "metadata": {},
   "outputs": [],
   "source": [
    "from abc import ABC,abstractclassmethod,abstractmethod\n",
    "\n",
    "class Besin(ABC):\n",
    "    @abstractmethod\n",
    "    def yika(self):\n",
    "        pass\n",
    "\n",
    "class Cilek(Besin):\n",
    "    def yika(self):\n",
    "        print(\"Çilekler yıkandı\")\n",
    "\n",
    "obj = Cilek()"
   ]
  },
  {
   "cell_type": "code",
   "execution_count": null,
   "metadata": {},
   "outputs": [],
   "source": []
  }
 ],
 "metadata": {
  "kernelspec": {
   "display_name": "Python 3",
   "language": "python",
   "name": "python3"
  },
  "language_info": {
   "codemirror_mode": {
    "name": "ipython",
    "version": 3
   },
   "file_extension": ".py",
   "mimetype": "text/x-python",
   "name": "python",
   "nbconvert_exporter": "python",
   "pygments_lexer": "ipython3",
   "version": "3.12.9"
  }
 },
 "nbformat": 4,
 "nbformat_minor": 2
}

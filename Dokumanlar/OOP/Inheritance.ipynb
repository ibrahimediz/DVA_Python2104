{
 "cells": [
  {
   "cell_type": "markdown",
   "metadata": {},
   "source": [
    "# Inheritance\n"
   ]
  },
  {
   "cell_type": "code",
   "execution_count": 4,
   "metadata": {},
   "outputs": [
    {
     "name": "stdout",
     "output_type": "stream",
     "text": [
      "A Sınıfından Çalıştım\n",
      "A\n"
     ]
    }
   ],
   "source": [
    "class A:\n",
    "    def __init__(self):\n",
    "        self.a = \"A\"\n",
    "\n",
    "    def soyle(self):\n",
    "        print(\"A Sınıfından Çalıştım\")\n",
    "\n",
    "    def soyleA(self):\n",
    "        print(self.a)\n",
    "\n",
    "class B(A):\n",
    "    pass\n",
    "\n",
    "objB = B()\n",
    "objB.soyle()\n",
    "objB.soyleA()"
   ]
  },
  {
   "cell_type": "code",
   "execution_count": 6,
   "metadata": {},
   "outputs": [
    {
     "name": "stdout",
     "output_type": "stream",
     "text": [
      "A Sınıfından Çalıştım\n",
      "A\n"
     ]
    }
   ],
   "source": [
    "class A:\n",
    "    def __init__(self):\n",
    "        self.a = \"A\"\n",
    "\n",
    "    def soyle(self):\n",
    "        print(\"A Sınıfından Çalıştım\")\n",
    "\n",
    "    def soyleA(self):\n",
    "        print(self.a)\n",
    "\n",
    "class B(A):\n",
    "    def __init__(self):\n",
    "        super().__init__()\n",
    "        self.b = \"B\"\n",
    "\n",
    "objB = B()\n",
    "objB.soyle()\n",
    "objB.soyleA()"
   ]
  },
  {
   "cell_type": "code",
   "execution_count": null,
   "metadata": {},
   "outputs": [
    {
     "name": "stdout",
     "output_type": "stream",
     "text": [
      "A Sınıfından Çalıştım\n"
     ]
    }
   ],
   "source": [
    "class A:\n",
    "    def __init__(self):\n",
    "        self.a = \"A\"\n",
    "\n",
    "    def soyle(self):\n",
    "        print(\"A Sınıfından Çalıştım\")\n",
    "\n",
    "    def soyleA(self):\n",
    "        print(self.a)\n",
    "\n",
    "class B:\n",
    "    def __init__(self):\n",
    "        self.b = \"B\"\n",
    "\n",
    "    def soyle(self):\n",
    "        print(\"B Sınıfından Çalıştım\")\n",
    "\n",
    "    def soyleB(self):\n",
    "        print(self.b)\n",
    "\n",
    "class C(A,B):\n",
    "    def __init__(self):\n",
    "        A.__init__(self)\n",
    "        B.__init__(self)\n",
    "        self.c = \"C\"\n",
    "        \n",
    "\n",
    "objC = C()\n",
    "objC.soyle()\n"
   ]
  },
  {
   "cell_type": "code",
   "execution_count": null,
   "metadata": {},
   "outputs": [],
   "source": []
  }
 ],
 "metadata": {
  "kernelspec": {
   "display_name": "Python 3",
   "language": "python",
   "name": "python3"
  },
  "language_info": {
   "codemirror_mode": {
    "name": "ipython",
    "version": 3
   },
   "file_extension": ".py",
   "mimetype": "text/x-python",
   "name": "python",
   "nbconvert_exporter": "python",
   "pygments_lexer": "ipython3",
   "version": "3.12.9"
  }
 },
 "nbformat": 4,
 "nbformat_minor": 2
}
